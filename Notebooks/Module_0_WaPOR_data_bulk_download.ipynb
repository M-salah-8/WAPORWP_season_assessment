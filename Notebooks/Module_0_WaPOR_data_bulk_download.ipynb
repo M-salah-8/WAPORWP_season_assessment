{
 "cells": [
  {
   "cell_type": "markdown",
   "metadata": {},
   "source": [
    "## Module 0 - In this jupyter notebook, WaPOR data needed for Water Productivity assessment will be  downloaded in bulk and corrected to the right unit\n",
    "* Import modules/libraries\n",
    "* Read geographical extent of the study area\n",
    "* Bulk-download WaPOR data for the study area extent  \n",
    "\n",
    "**=====================================================================================================================**\n",
    "**Data layers for Water Productivity assessment:**\n",
    "\n",
    "| No.  | WaPOR Data | Spatial resolution | Temporal resolution | Temporal coverage |\n",
    "| :-: | :-: | :-: | :-: | :-: |\n",
    "| 1 |Actual Evapotranspiration & interception (AETI)  | 100 m | Dekadal | 2009-2019 |\n",
    "| 2  | Transpiration (T)  | 100 m | Dekadal  | 2009-2019 |\n",
    "| 3  | Net Primary Production (NPP) | 100 m | Dekadal | 2009-2019 |\n",
    "| 4  | Land cover classification (LCC)  | 100 m | Annual | 2009-2019 |\n",
    "| 5  | Precipitation (PCP)  | 5 km | Dekadal | 2009-2019 |\n",
    "| 6  | Reference Evapotranspiration (RET) | 20 km | Dekadal  | 2009-2019 |\n",
    "\n",
    "**=====================================================================================================================**"
   ]
  },
  {
   "cell_type": "markdown",
   "metadata": {},
   "source": [
    "## 1 Import modules/libraries"
   ]
  },
  {
   "cell_type": "code",
   "execution_count": null,
   "metadata": {},
   "outputs": [],
   "source": [
    "import os\n",
    "import geopandas as gpd\n",
    "master_dr = os.path.split(os.getcwd())[0]\n",
    "os.chdir(os.path.join(master_dr, \"Modules\"))\n",
    "from maps import Maps\n",
    "import WaPOR\n",
    "WaPOR.API.version=2 #select WaPOR version\n",
    "WaPOR.API.getCatalog()"
   ]
  },
  {
   "cell_type": "markdown",
   "metadata": {},
   "source": [
    "**Get WaPOR API Token: https://wapor.apps.fao.org/profile**\n",
    "![title](img/Fig0.gif)"
   ]
  },
  {
   "cell_type": "markdown",
   "metadata": {},
   "source": [
    "## 2 Read geographical extent of the study area"
   ]
  },
  {
   "cell_type": "code",
   "execution_count": null,
   "metadata": {},
   "outputs": [],
   "source": [
    "roi_shapefile= os.path.join(master_dr, r\"Data/1Boundary/Shapefile/wheat.shp\")\n",
    "shape=gpd.read_file(roi_shapefile) #read shapefile\n",
    "xmin,ymin,xmax,ymax=shape.total_bounds #read shapefile extent\n",
    "print('Extent of study area: lonlim = [{0},{2}], latlim = [{1},{3}]'.format(xmin,ymin,xmax,ymax))"
   ]
  },
  {
   "cell_type": "code",
   "execution_count": null,
   "metadata": {},
   "outputs": [],
   "source": [
    "##plot to check shapefile\n",
    "id_column = 'FID'\n",
    "map = Maps()\n",
    "map.main_map(shape, id_column)"
   ]
  },
  {
   "cell_type": "markdown",
   "metadata": {},
   "source": [
    "## 3 Bulk-download WaPOR data for the study area extent"
   ]
  },
  {
   "cell_type": "code",
   "execution_count": null,
   "metadata": {},
   "outputs": [],
   "source": [
    "output_dir= os.path.join(master_dr, \"Data/tif/download\") # folder to save data\n",
    "os.makedirs(output_dir, exist_ok= True)"
   ]
  },
  {
   "cell_type": "code",
   "execution_count": null,
   "metadata": {},
   "outputs": [],
   "source": [
    "startdate = '2014-11-01'\n",
    "enddate = '2015-03-15'"
   ]
  },
  {
   "cell_type": "markdown",
   "metadata": {},
   "source": [
    "## Reference Evapotranspiration (Dekadal)"
   ]
  },
  {
   "cell_type": "code",
   "execution_count": null,
   "metadata": {},
   "outputs": [],
   "source": [
    "WaPOR.download_dekadal(output_dir, \n",
    "                       data='RET',\n",
    "                       Startdate=startdate, \n",
    "                       Enddate=enddate,\n",
    "                       latlim=[ymin-0.1, ymax+0.1], \n",
    "                       lonlim=[xmin-0.1, xmax+0.1],\n",
    "                       level=1, \n",
    "                       )"
   ]
  },
  {
   "cell_type": "markdown",
   "metadata": {},
   "source": [
    "## Precipitation (Dekadal) "
   ]
  },
  {
   "cell_type": "code",
   "execution_count": null,
   "metadata": {},
   "outputs": [],
   "source": [
    "WaPOR.download_dekadal(output_dir, \n",
    "                       data='PCP',\n",
    "                       Startdate=startdate, \n",
    "                       Enddate=enddate,\n",
    "                       latlim=[ymin-0.1, ymax+0.1], \n",
    "                       lonlim=[xmin-0.1, xmax+0.1],\n",
    "                       level=1, \n",
    "                       )"
   ]
  },
  {
   "cell_type": "markdown",
   "metadata": {},
   "source": [
    "## Actual evapotranspiration & interception (Dekadal)"
   ]
  },
  {
   "cell_type": "code",
   "execution_count": null,
   "metadata": {},
   "outputs": [],
   "source": [
    "WaPOR.download_dekadal(output_dir, \n",
    "                       data='AETI',\n",
    "                       Startdate=startdate, \n",
    "                       Enddate=enddate,\n",
    "                       latlim=[ymin-0.1, ymax+0.1], \n",
    "                       lonlim=[xmin-0.1, xmax+0.1],\n",
    "                       level=2, \n",
    "                       )"
   ]
  },
  {
   "cell_type": "markdown",
   "metadata": {},
   "source": [
    "## Transpiration (Dekadal)"
   ]
  },
  {
   "cell_type": "code",
   "execution_count": null,
   "metadata": {},
   "outputs": [],
   "source": [
    "WaPOR.download_dekadal(output_dir, \n",
    "                       data='T',\n",
    "                       Startdate=startdate, \n",
    "                       Enddate=enddate,\n",
    "                       latlim=[ymin-0.1, ymax+0.1], \n",
    "                       lonlim=[xmin-0.1, xmax+0.1],\n",
    "                       level=2, \n",
    "                       )"
   ]
  },
  {
   "cell_type": "markdown",
   "metadata": {},
   "source": [
    "## Net Primary Production (Dekadal)"
   ]
  },
  {
   "cell_type": "code",
   "execution_count": null,
   "metadata": {},
   "outputs": [],
   "source": [
    "WaPOR.download_dekadal(output_dir, \n",
    "                       data='NPP',\n",
    "                       Startdate=startdate, \n",
    "                       Enddate=enddate,\n",
    "                       latlim=[ymin-0.1, ymax+0.1], \n",
    "                       lonlim=[xmin-0.1, xmax+0.1],\n",
    "                       level=2, \n",
    "                       )"
   ]
  },
  {
   "cell_type": "markdown",
   "metadata": {},
   "source": [
    "## Land cover classification (Annual)"
   ]
  },
  {
   "cell_type": "code",
   "execution_count": null,
   "metadata": {},
   "outputs": [],
   "source": [
    "WaPOR.download_yearly(output_dir, \n",
    "                       data='LCC',\n",
    "                       Startdate=startdate, \n",
    "                       Enddate=enddate,\n",
    "                       latlim=[ymin-0.1, ymax+0.1], \n",
    "                       lonlim=[xmin-0.1, xmax+0.1],\n",
    "                       level=2, \n",
    "                       )"
   ]
  }
 ],
 "metadata": {
  "kernelspec": {
   "display_name": "Python 3",
   "language": "python",
   "name": "python3"
  },
  "language_info": {
   "codemirror_mode": {
    "name": "ipython",
    "version": 3
   },
   "file_extension": ".py",
   "mimetype": "text/x-python",
   "name": "python",
   "nbconvert_exporter": "python",
   "pygments_lexer": "ipython3",
   "version": "3.12.5"
  }
 },
 "nbformat": 4,
 "nbformat_minor": 2
}
