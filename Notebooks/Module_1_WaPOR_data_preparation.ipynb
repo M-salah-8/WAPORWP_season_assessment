{
 "cells": [
  {
   "cell_type": "markdown",
   "metadata": {},
   "source": [
    "# Module 1 - In this jupyter notebook, resampling and masking are undertaken as part of preparing the data for further analyses. \n",
    "* Step 1a - Import modules/libraries\n",
    "* Step 1b - Resampling raster data and \n",
    "* Step 1c - Filter non-cropped area \n",
    "\n",
    "**=====================================================================================================================**\n",
    "\n",
    "![title](img/Fig1_1.png)\n",
    "\n",
    "**=====================================================================================================================**"
   ]
  },
  {
   "cell_type": "markdown",
   "metadata": {
    "slideshow": {
     "slide_type": "skip"
    }
   },
   "source": [
    "## Step 1a - Import modules/libraries"
   ]
  },
  {
   "cell_type": "code",
   "execution_count": 2,
   "metadata": {},
   "outputs": [],
   "source": [
    "import os                             # a module for interacting with the operating system\n",
    "import glob                           # used to retrieve files/pathnames matching a specified pattern\n",
    "import matplotlib.pyplot as plt       # is a plotting library used for 2D graphics in python \n",
    "master_dr = os.path.split(os.getcwd())[0]\n",
    "import numpy as np                    # stands for 'Numerical Python, is a python library used for scientific computing with arrays\n",
    "from osgeo import ogr, gdal\n",
    "master_dr = os.path.split(os.getcwd())[0]\n",
    "os.chdir(os.path.join(master_dr, \"Modules\"))\n",
    "from GIS_functions import GIS_function as gis"
   ]
  },
  {
   "cell_type": "markdown",
   "metadata": {},
   "source": [
    "# Reample all rasters data"
   ]
  },
  {
   "cell_type": "code",
   "execution_count": 3,
   "metadata": {},
   "outputs": [
    {
     "name": "stdout",
     "output_type": "stream",
     "text": [
      "The size & shape of the template raster      = 79499 & (287, 277)\n",
      "data = PCP\n",
      "The size & shape of the original raster      = 42 & (6, 7)\n",
      "The size & shape of the resampled raster      = 79499 & (287, 277)\n",
      "\n",
      "data = RET\n",
      "The size & shape of the original raster      = 6 & (2, 3)\n",
      "The size & shape of the resampled raster      = 79499 & (287, 277)\n",
      "\n",
      "data = AETI\n",
      "The size & shape of the original raster      = 79499 & (287, 277)\n",
      "The size & shape of the resampled raster      = 79499 & (287, 277)\n",
      "\n",
      "data = NPP\n",
      "The size & shape of the original raster      = 79499 & (287, 277)\n",
      "The size & shape of the resampled raster      = 79499 & (287, 277)\n",
      "\n",
      "data = T\n",
      "The size & shape of the original raster      = 79499 & (287, 277)\n",
      "The size & shape of the resampled raster      = 79499 & (287, 277)\n",
      "\n",
      "data = LCC\n",
      "The size & shape of the original raster      = 79499 & (287, 277)\n",
      "The size & shape of the resampled raster      = 79499 & (287, 277)\n",
      "\n"
     ]
    }
   ],
   "source": [
    "source_file   = os.path.join(master_dr, r\"Data/tif/download/WAPOR.v2_dekadal_L2_AETI_D/L2_AETI_1431.tif\")\n",
    "template = gis.OpenAsArray(source_file, nan_values=True)\n",
    "print ('The size & shape of the template raster      =', template.size,  '&', template.shape)\n",
    "download_dr = os.path.join(master_dr, r\"Data/tif/download\")\n",
    "resample_dr = os.path.join(master_dr, r\"Data/tif/resample\")\n",
    "for data_dr in sorted(os.listdir(download_dr)):\n",
    "  print(f\"data = {data_dr.split('_')[-2]}\")\n",
    "  target_fhs = sorted(glob.glob(os.path.join(download_dr, data_dr)+'/*.tif'))\n",
    "  original   = gis.OpenAsArray(target_fhs[0], nan_values=True)\n",
    "  print ('The size & shape of the original raster      =', original.size,  '&', original.shape)\n",
    "  Resample = gis.MatchProjResNDV (source_file, target_fhs, os.path.join(resample_dr, data_dr), resample = 'near', dtype = 'float32')\n",
    "  resampled   = gis.OpenAsArray(sorted(glob.glob(os.path.join(resample_dr, data_dr)+'/*.tif'))[0], nan_values=True)\n",
    "  print ('The size & shape of the resampled raster      =', resampled.size,  '&', resampled.shape)\n",
    "  print()"
   ]
  }
 ],
 "metadata": {
  "kernelspec": {
   "display_name": "Python 3",
   "language": "python",
   "name": "python3"
  },
  "language_info": {
   "codemirror_mode": {
    "name": "ipython",
    "version": 3
   },
   "file_extension": ".py",
   "mimetype": "text/x-python",
   "name": "python",
   "nbconvert_exporter": "python",
   "pygments_lexer": "ipython3",
   "version": "3.10.12"
  }
 },
 "nbformat": 4,
 "nbformat_minor": 2
}
