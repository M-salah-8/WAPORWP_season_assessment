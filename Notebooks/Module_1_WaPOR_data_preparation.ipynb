{
 "cells": [
  {
   "cell_type": "markdown",
   "metadata": {},
   "source": [
    "# Module 1 - In this jupyter notebook, resampling and masking are undertaken as part of preparing the data for further analyses. \n",
    "* Import modules/libraries\n",
    "* Resampling and co-register raster data.\n",
    "\n",
    "**=====================================================================================================================**\n",
    "\n",
    "![title](img/Fig1_1.png)\n",
    "\n",
    "**=====================================================================================================================**"
   ]
  },
  {
   "cell_type": "markdown",
   "metadata": {
    "slideshow": {
     "slide_type": "skip"
    }
   },
   "source": [
    "## Import modules/libraries"
   ]
  },
  {
   "cell_type": "code",
   "execution_count": null,
   "metadata": {},
   "outputs": [],
   "source": [
    "import os\n",
    "import glob\n",
    "master_dr = os.path.split(os.getcwd())[0]\n",
    "os.chdir(os.path.join(master_dr, \"Modules\"))\n",
    "from GIS_functions import GIS_function as gis"
   ]
  },
  {
   "cell_type": "markdown",
   "metadata": {},
   "source": [
    "# Co-rigester all rasters data"
   ]
  },
  {
   "cell_type": "code",
   "execution_count": null,
   "metadata": {},
   "outputs": [],
   "source": [
    "# instert desired source file directory\n",
    "source_file   = os.path.join(master_dr, r\"Data/tif/download/WAPOR.v2_dekadal_L2_AETI_D/L2_AETI_1431.tif\")\n",
    "template = gis.OpenAsArray(source_file, nan_values=True)\n",
    "print ('The size & shape of the template raster      =', template.size,  '&', template.shape)\n",
    "download_dr = os.path.join(master_dr, r\"Data/tif/download\")\n",
    "resample_dr = os.path.join(master_dr, r\"Data/tif/resample\")\n",
    "for data_dr in sorted(os.listdir(download_dr)):\n",
    "  print(f\"data = {data_dr.split('_')[-2]}\")\n",
    "  target_fhs = sorted(glob.glob(os.path.join(download_dr, data_dr)+'/*.tif'))\n",
    "  original   = gis.OpenAsArray(target_fhs[0], nan_values=True)\n",
    "  print ('The size & shape of the original raster      =', original.size,  '&', original.shape)\n",
    "  Resample = gis.MatchProjResNDV (source_file, target_fhs, os.path.join(resample_dr, data_dr), resample = 'near', dtype = 'float32')\n",
    "  resampled   = gis.OpenAsArray(sorted(glob.glob(os.path.join(resample_dr, data_dr)+'/*.tif'))[0], nan_values=True)\n",
    "  print ('The size & shape of the resampled raster      =', resampled.size,  '&', resampled.shape)"
   ]
  }
 ],
 "metadata": {
  "kernelspec": {
   "display_name": "Python 3",
   "language": "python",
   "name": "python3"
  },
  "language_info": {
   "codemirror_mode": {
    "name": "ipython",
    "version": 3
   },
   "file_extension": ".py",
   "mimetype": "text/x-python",
   "name": "python",
   "nbconvert_exporter": "python",
   "pygments_lexer": "ipython3",
   "version": "3.12.5"
  }
 },
 "nbformat": 4,
 "nbformat_minor": 2
}
