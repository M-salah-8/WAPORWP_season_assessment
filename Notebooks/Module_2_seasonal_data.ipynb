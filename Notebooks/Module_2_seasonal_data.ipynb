{
 "cells": [
  {
   "cell_type": "markdown",
   "metadata": {
    "slideshow": {
     "slide_type": "skip"
    }
   },
   "source": [
    "## Step 1a - Import modules/libraries"
   ]
  },
  {
   "cell_type": "code",
   "execution_count": 2,
   "metadata": {},
   "outputs": [],
   "source": [
    "import os                             # a module for interacting with the operating system\n",
    "import glob                           # used to retrieve files/pathnames matching a specified pattern\n",
    "master_dr = os.path.split(os.getcwd())[0]\n",
    "import rasterio\n",
    "import rasterio.mask\n",
    "import geopandas as gpd\n",
    "import numpy as np\n",
    "os.chdir(os.path.join(master_dr, \"Modules\"))\n",
    "from GIS_functions import GIS_function as gis"
   ]
  },
  {
   "cell_type": "markdown",
   "metadata": {},
   "source": [
    "# prepairations"
   ]
  },
  {
   "cell_type": "code",
   "execution_count": 6,
   "metadata": {},
   "outputs": [],
   "source": [
    "roi_shapefile= os.path.join(master_dr, r\"Data/1Boundary/Shapefile/wheat.geojson\")\n",
    "gdf=gpd.read_file(roi_shapefile) #read shapefile\n",
    "resample_dr = os.path.join(master_dr, r\"Data/tif/resample\")\n",
    "\n",
    "# tifs meta\n",
    "source_file   = os.path.join(master_dr, r\"Data/tif/download/WAPOR.v2_dekadal_L2_AETI_D/L2_AETI_1431.tif\")\n",
    "src = rasterio.open(source_file, dtype=np.float32)\n",
    "tif_crop_array, tif_crop_transform = rasterio.mask.mask(src, gdf.geometry, crop=True, filled=True, nodata=0)\n",
    "meta = src.meta\n",
    "meta.update(\n",
    "  dtype = np.float32,\n",
    "  nodata= np.nan,\n",
    "  width= tif_crop_array.shape[-1], \n",
    "  height= tif_crop_array.shape[-2],\n",
    "  transform= tif_crop_transform,\n",
    "  count= 1,\n",
    ")"
   ]
  },
  {
   "cell_type": "markdown",
   "metadata": {},
   "source": [
    "# seasonal data values"
   ]
  },
  {
   "cell_type": "code",
   "execution_count": 7,
   "metadata": {},
   "outputs": [
    {
     "name": "stdout",
     "output_type": "stream",
     "text": [
      "data = PCP\n",
      "data = RET\n",
      "data = AETI\n",
      "data = NPP\n",
      "data = T\n"
     ]
    }
   ],
   "source": [
    "seasonal_dr = os.path.join(master_dr, r\"Data/tif/seasonal\")\n",
    "os.makedirs(seasonal_dr, exist_ok= True)\n",
    "\n",
    "for data_dr in sorted(os.listdir(resample_dr)):\n",
    "  if 'LCC' in data_dr:  # exclude landcover\n",
    "    continue\n",
    "  data_name = data_dr.split('_')[-2]\n",
    "  print(f\"data = {data_name}\") \n",
    "  target_fhs = sorted(glob.glob(os.path.join(resample_dr, data_dr)+'/*.tif'))\n",
    "  output_file = os.path.join(seasonal_dr,f\"seasonal_{data_name}.tif\")\n",
    "  season_array = 0\n",
    "  for tif in target_fhs:\n",
    "    src = rasterio.open(tif, dtype=np.float32)\n",
    "    tif_crop_array, tif_crop_transform = rasterio.mask.mask(src, gdf.geometry, crop=True, filled=True, nodata=np.nan)\n",
    "    season_array += tif_crop_array[0]\n",
    "  with rasterio.open(output_file, 'w', **meta) as dst:\n",
    "    dst.write(season_array, 1)"
   ]
  },
  {
   "cell_type": "markdown",
   "metadata": {},
   "source": [
    "# monthly data values"
   ]
  },
  {
   "cell_type": "code",
   "execution_count": 8,
   "metadata": {},
   "outputs": [],
   "source": [
    "monthly_dr = os.path.join(master_dr, r\"Data/tif/monthly\")\n",
    "\n",
    "for data_dr in sorted(os.listdir(resample_dr)):\n",
    "  if 'LCC' in data_dr:  # exclude landcover\n",
    "    continue\n",
    "  data_name = data_dr.split('_')[-2]\n",
    "  # print(f\"data = {data_name}\")\n",
    "  target_fhs = sorted(glob.glob(os.path.join(resample_dr, data_dr)+'/*.tif'))\n",
    "  current_month = round((int(os.path.basename(target_fhs[0]).split('_')[-1][2:4])+1)/3)\n",
    "  current_year = f\"20{os.path.basename(target_fhs[0]).split('_')[-1][:2]}\"\n",
    "  data_dr = os.path.join(monthly_dr, data_name)\n",
    "  os.makedirs(data_dr, exist_ok= True)\n",
    "  month_array = 0\n",
    "  for i,tif in enumerate(target_fhs):\n",
    "    src = rasterio.open(tif, dtype=np.float32)\n",
    "    tif_crop_array, tif_crop_transform = rasterio.mask.mask(src, gdf.geometry, crop=True, filled=True, nodata=np.nan)\n",
    "    # print(int(os.path.basename(tif).split('_')[-1][2:4]))\n",
    "    month = round((int(os.path.basename(tif).split('_')[-1][2:4])+1)/3)\n",
    "    # print(\"trail\")\n",
    "    if month == current_month:\n",
    "      # print(f\"m 1 {month}\")\n",
    "      month_array += tif_crop_array[0]\n",
    "    if month != current_month or tif == target_fhs[-1]:\n",
    "      # print(f\"m 2 {month}\")\n",
    "      output_file = os.path.join(data_dr,f\"monthly_{data_name}_{current_year}_{str(current_month).zfill(2)}.tif\")\n",
    "      with rasterio.open(output_file, 'w', **meta) as dst:\n",
    "        dst.write(month_array, 1)\n",
    "\n",
    "      current_year = f\"20{os.path.basename(tif).split('_')[-1][:2]}\"\n",
    "      current_month = month\n",
    "      month_array = 0\n",
    "      month_array += tif_crop_array[0]"
   ]
  }
 ],
 "metadata": {
  "kernelspec": {
   "display_name": "Python 3",
   "language": "python",
   "name": "python3"
  },
  "language_info": {
   "codemirror_mode": {
    "name": "ipython",
    "version": 3
   },
   "file_extension": ".py",
   "mimetype": "text/x-python",
   "name": "python",
   "nbconvert_exporter": "python",
   "pygments_lexer": "ipython3",
   "version": "3.10.12"
  }
 },
 "nbformat": 4,
 "nbformat_minor": 2
}
