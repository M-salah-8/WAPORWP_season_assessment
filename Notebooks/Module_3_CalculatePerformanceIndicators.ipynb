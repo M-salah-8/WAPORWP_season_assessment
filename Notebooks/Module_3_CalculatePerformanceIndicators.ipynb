{
 "cells": [
  {
   "cell_type": "markdown",
   "metadata": {},
   "source": [
    "## Module 3 - In this jupyter notebook, perfomance indicators are calculated \n",
    "* Step 3a - Set up: Import modules/libraries, inport data, create output folder\n",
    "* Step 3b - Calculate uniformity\n",
    "* Step 3c - Calculate efficiency (beneficial fraction)\n",
    "* Step 3d - Calculate adquacy\n",
    "* Step 3e - Calculate relative water deficit \n",
    "**=====================================================================================================================**\n",
    "\n",
    "![title](img/Fig3_1.png)\n",
    "\n",
    "**=====================================================================================================================**\n",
    "#### <span style='background :lightgreen' > References:\n",
    "* Karimi, P., Bongani, B., Blatchford, M., and de Fraiture, C.: Global satellite-based ET products for the local level irrigation management: An application of irrigation performance assessment in the sugarbelt of Swaziland, Remote Sensing, 11, 705, 2019.\n",
    "* Bastiaanssen, W. G., and Bos, M.: Irrigation performance indicators based on remotely sensed data: a review of literature, Irrigation and drainage systems, 13, 291-311, 1999.\n",
    "* Bastiaanssen, W. G., Van der Wal, T., and Visser, T.: Diagnosis of regional evaporation by remote sensing to support irrigation performance assessment, Irrigation and Drainage Systems, 10, 1-23, 1996."
   ]
  },
  {
   "cell_type": "markdown",
   "metadata": {},
   "source": [
    "## Step 3a - Set up"
   ]
  },
  {
   "cell_type": "markdown",
   "metadata": {},
   "source": [
    "## i) Import packages/libraries"
   ]
  },
  {
   "cell_type": "code",
   "execution_count": 1,
   "metadata": {},
   "outputs": [],
   "source": [
    "import os\n",
    "import geopandas as gpd\n",
    "import pandas as pd\n",
    "import numpy as np\n",
    "from matplotlib import pyplot as plt\n",
    "master_dr = os.path.split(os.getcwd())[0]\n",
    "# change the directory to where the modules are saved\n",
    "os.chdir(os.path.join(os.path.split(os.getcwd())[0], \"Modules\"))\n",
    "from GIS_functions import GIS_function as gis"
   ]
  },
  {
   "cell_type": "code",
   "execution_count": 2,
   "metadata": {},
   "outputs": [],
   "source": [
    "roi_shapefile= os.path.join(master_dr, r\"Data/1Boundary/Shapefile/wheat.shp\")\n",
    "gdf= gpd.read_file(roi_shapefile)"
   ]
  },
  {
   "cell_type": "code",
   "execution_count": 3,
   "metadata": {},
   "outputs": [],
   "source": [
    "names = [*[str(i) for i in gdf['FID'].tolist()], 'all_area']\n",
    "data_df = pd.DataFrame(\n",
    "  {\n",
    "    'FID': names,\n",
    "    'uniformity': pd.NA,\n",
    "    'uniformity class': pd.NA,\n",
    "    'RWD': pd.NA\n",
    "  }\n",
    ")"
   ]
  },
  {
   "cell_type": "markdown",
   "metadata": {},
   "source": [
    "## ii) Import the input data\n",
    "* Seasonal T, AETI, ETp "
   ]
  },
  {
   "cell_type": "code",
   "execution_count": 4,
   "metadata": {},
   "outputs": [],
   "source": [
    "# get seasonal data\n",
    "seasonal_dr = os.path.join(master_dr, r\"Data/tif/seasonal\")\n",
    "T_seasonal    = os.path.join(seasonal_dr, f\"seasonal_T.tif\")\n",
    "AETI_seasonal    = os.path.join(seasonal_dr, f\"seasonal_AETI.tif\")\n",
    "ETp_seasonal    = os.path.join(seasonal_dr, f\"seasonal_RET.tif\")\n",
    "NPP_seasonal    = os.path.join(seasonal_dr, f\"seasonal_NPP.tif\")"
   ]
  },
  {
   "cell_type": "markdown",
   "metadata": {},
   "source": [
    "## Step 3c - Calculate efficiency (beneficial fraction)\n",
    "* Beneficial fraction is the ratio of the water that is consumed as transpiration compared to overall field water consumption (ETa). \n",
    "* $Beneficial fraction = \\frac{T_a}{ET_a}$\n",
    "* It is a measure of the efficiency of on farm water and agronomic practices in use of water for crop growth."
   ]
  },
  {
   "cell_type": "code",
   "execution_count": 5,
   "metadata": {
    "collapsed": true
   },
   "outputs": [],
   "source": [
    "# collecting Geoinfo such as projection, the x and y axis\n",
    "driver, NDV, xsize, ysize, GeoT, Projection = gis.GetGeoInfo(AETI_seasonal)\n",
    "spatial_extent = (GeoT[0], GeoT[0] + GeoT[1] * xsize, GeoT[3] + GeoT[5] * ysize, GeoT[3])  # get spatial extent of raster\n",
    "  \n",
    "T    = gis.OpenAsArray(T_seasonal,  nan_values=True)\n",
    "AETI = gis.OpenAsArray(AETI_seasonal, nan_values=True)\n",
    "\n",
    "T_over_AETI = T/AETI\n",
    "\n",
    "basename  = os.path.basename(AETI_seasonal).replace('AETI', 'BF')\n",
    "output_fn = os.path.join(seasonal_dr, basename)\n",
    "gis.CreateGeoTiff(output_fn, T_over_AETI, driver, NDV, xsize, ysize, GeoT, Projection)"
   ]
  },
  {
   "cell_type": "markdown",
   "metadata": {},
   "source": [
    "## Step 3d - Calculate adequacy (relative evapotranspiration)\n",
    "$Adequacy= \\frac{ET_a}{ET_p}$"
   ]
  },
  {
   "cell_type": "code",
   "execution_count": 6,
   "metadata": {
    "collapsed": true
   },
   "outputs": [],
   "source": [
    "## Calculate and save raster adequacy layer\n",
    "\n",
    "# collecting Geoinfo such as projection, the x and y axis\n",
    "driver, NDV, xsize, ysize, GeoT, Projection = gis.GetGeoInfo(AETI_seasonal)\n",
    "spatial_extent = (GeoT[0], GeoT[0] + GeoT[1] * xsize, GeoT[3] + GeoT[5] * ysize, GeoT[3])  # get spatial extent of raster\n",
    "\n",
    "AETI = gis.OpenAsArray(AETI_seasonal,  nan_values=True)\n",
    "ETp  = gis.OpenAsArray(ETp_seasonal, nan_values=True)\n",
    "\n",
    "ETa_by_ETp = AETI / ETp\n",
    "\n",
    "# update the file name, and save into output folder\n",
    "basename  = os.path.basename(AETI_seasonal).replace('AETI', 'Adequacy')\n",
    "output_fn = os.path.join(seasonal_dr, basename)\n",
    "gis.CreateGeoTiff(output_fn, ETa_by_ETp, driver, NDV, xsize, ysize, GeoT, Projection) "
   ]
  }
 ],
 "metadata": {
  "kernelspec": {
   "display_name": "Python 3",
   "language": "python",
   "name": "python3"
  },
  "language_info": {
   "codemirror_mode": {
    "name": "ipython",
    "version": 3
   },
   "file_extension": ".py",
   "mimetype": "text/x-python",
   "name": "python",
   "nbconvert_exporter": "python",
   "pygments_lexer": "ipython3",
   "version": "3.10.12"
  }
 },
 "nbformat": 4,
 "nbformat_minor": 2
}
