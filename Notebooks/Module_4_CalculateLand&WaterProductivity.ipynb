{
 "cells": [
  {
   "cell_type": "markdown",
   "metadata": {},
   "source": [
    "## Module 4 - In this jupyter notebook, land and water productivity are calculated \n",
    "* Step 4a - Set up\n",
    "* Step 4b - Calculate land productivity: i) biomass and ii) crop yield  \n",
    "* Step 4c - Calculate productivity: i) biomass water productivity and ii) crop water productivity\n",
    "**=====================================================================================================================**\n",
    "\n",
    "![title](img/Fig4_1.png)\n",
    "\n",
    "**=====================================================================================================================**"
   ]
  },
  {
   "cell_type": "markdown",
   "metadata": {},
   "source": [
    "## Step 4a - Setu up"
   ]
  },
  {
   "cell_type": "markdown",
   "metadata": {},
   "source": [
    "## i) Import packages/libraries"
   ]
  },
  {
   "cell_type": "code",
   "execution_count": 1,
   "metadata": {},
   "outputs": [],
   "source": [
    "import os\n",
    "import glob\n",
    "\n",
    "import numpy as np\n",
    "from matplotlib import pyplot as plt\n",
    "master_dr = os.path.split(os.getcwd())[0]\n",
    "\n",
    "# change the directory to where the modules are saved\n",
    "os.chdir(os.path.join(os.path.split(os.getcwd())[0], \"Modules\"))\n",
    "from GIS_functions import GIS_function as gis"
   ]
  },
  {
   "cell_type": "markdown",
   "metadata": {},
   "source": [
    "## Step 4b - Calculate land productivity\n",
    "* i) Biomass\n",
    "* ii) Crop yield"
   ]
  },
  {
   "cell_type": "markdown",
   "metadata": {},
   "source": [
    "## i) Calculate biomass\n",
    "$Biomass   = AOT*f_c*\\frac{NPP*22.222}{1-mc}$\n",
    "<br/>where AOT is the above ground over total biomass production ration (-), fc is the light use efficiency correction factor[-]. NPP is seasonal net primary production in gC/m²/season, mc is moisture content in the fresh biomass [-] and HI is harvest index"
   ]
  },
  {
   "cell_type": "markdown",
   "metadata": {},
   "source": [
    "## * Import raster data"
   ]
  },
  {
   "cell_type": "code",
   "execution_count": 2,
   "metadata": {},
   "outputs": [],
   "source": [
    "# get seasonal data\n",
    "seasonal_dr = os.path.join(master_dr, r\"Data/tif/seasonal\")\n",
    "monthly_dr = os.path.join(master_dr, r\"Data/tif/monthly\")\n",
    "T_seasonal = os.path.join(seasonal_dr, f\"seasonal_T.tif\")\n",
    "AETI_seasonal = os.path.join(seasonal_dr, f\"seasonal_AETI.tif\")\n",
    "ETp_seasonal = os.path.join(seasonal_dr, f\"seasonal_RET.tif\")\n",
    "NPP_seasonal = os.path.join(seasonal_dr, f\"seasonal_NPP.tif\")\n",
    "AETI_monthly = sorted(glob.glob(f\"{monthly_dr}/AETI\"+\"/*.tif\"))\n",
    "NPP_monthly = sorted(glob.glob(f\"{monthly_dr}/NPP\"+\"/*.tif\"))"
   ]
  },
  {
   "cell_type": "markdown",
   "metadata": {},
   "source": [
    "## ** Crop parameters\n",
    "![title](img/Fig4_2.png)"
   ]
  },
  {
   "cell_type": "code",
   "execution_count": 3,
   "metadata": {},
   "outputs": [],
   "source": [
    "# Update the crop parameters specic to the crop\n",
    "MC = 0.15  # moisture content, dry matter over freshbiomass\n",
    "fc = 1  # Light use efficiency correction factor\n",
    "AOT= 0.85  # above ground over total biomass production ratio(AOT)"
   ]
  },
  {
   "cell_type": "markdown",
   "metadata": {},
   "source": [
    "## **** Calculate above ground biomass (AGBM)"
   ]
  },
  {
   "cell_type": "code",
   "execution_count": 4,
   "metadata": {
    "collapsed": true
   },
   "outputs": [],
   "source": [
    "# collecting Geoinfo such as projection, the x and y axis\n",
    "driver, NDV, xsize, ysize, GeoT, Projection = gis.GetGeoInfo(AETI_seasonal)\n",
    "spatial_extent = (GeoT[0], GeoT[0] + GeoT[1] * xsize, GeoT[3] + GeoT[5] * ysize, GeoT[3])  # get spatial extent of raster\n",
    "\n",
    "NPP  = gis.OpenAsArray(NPP_seasonal, nan_values=True)\n",
    "AGBM = (AOT * fc * (NPP * 22.222 / (1 - MC))) / 1000  # Above ground biomass, 1000 is to covert from kg to ton\n",
    "\n",
    "# save into output folder\n",
    "biomass_seasonal    = os.path.join(seasonal_dr, f\"seasonal_biomass.tif\")\n",
    "gis.CreateGeoTiff(biomass_seasonal, AGBM, driver, NDV, xsize, ysize, GeoT, Projection)\n",
    "\n",
    "# monthly biomass\n",
    "biomass_monthly = os.path.join(monthly_dr,\"biomass\")\n",
    "os.makedirs(biomass_monthly, exist_ok= True)\n",
    "for NPP_month in NPP_monthly:\n",
    "  NPP  = gis.OpenAsArray(NPP_month, nan_values=True)\n",
    "  AGBM = (AOT * fc * (NPP * 22.222 / (1 - MC))) / 1000  # Above ground biomass, 1000 is to covert from kg to ton\n",
    "  \n",
    "  # save into output folder\n",
    "  biomass_month    = os.path.join(biomass_monthly, os.path.basename(NPP_month).replace(\"NPP\", \"biomass\"))\n",
    "  gis.CreateGeoTiff(biomass_month, AGBM, driver, NDV, xsize, ysize, GeoT, Projection)"
   ]
  },
  {
   "cell_type": "markdown",
   "metadata": {},
   "source": [
    "## ii) Calculate crop yield\n",
    "* $Crop yield = HI*B$\n",
    "* where HI is harvest index, and B (or AGBM) is above ground biomass"
   ]
  },
  {
   "cell_type": "markdown",
   "metadata": {},
   "source": [
    "## ** Update the Harvest index"
   ]
  },
  {
   "cell_type": "code",
   "execution_count": 5,
   "metadata": {},
   "outputs": [],
   "source": [
    "HI = 0.45     # harvest index of the crop"
   ]
  },
  {
   "cell_type": "markdown",
   "metadata": {},
   "source": [
    "## **** Calculate crop yield"
   ]
  },
  {
   "cell_type": "code",
   "execution_count": 6,
   "metadata": {
    "collapsed": true
   },
   "outputs": [],
   "source": [
    "# collecting Geoinfo such as projection, the x and y axis\n",
    "driver, NDV, xsize, ysize, GeoT, Projection = gis.GetGeoInfo(AETI_seasonal)\n",
    "spatial_extent = (GeoT[0], GeoT[0] + GeoT[1] * xsize, GeoT[3] + GeoT[5] * ysize, GeoT[3])  # get spatial extent of raster\n",
    "\n",
    "\n",
    "AGBM      = gis.OpenAsArray(biomass_seasonal, nan_values=True)\n",
    "CropYield = HI*AGBM\n",
    "    \n",
    "# save into output folder\n",
    "yield_seasonal    = os.path.join(seasonal_dr, f\"seasonal_yield.tif\")\n",
    "gis.CreateGeoTiff(yield_seasonal, CropYield, driver, NDV, xsize, ysize, GeoT, Projection) \n",
    "\n",
    "# monthly yield\n",
    "biomass_monthly = sorted(glob.glob(f\"{monthly_dr}/biomass\"+\"/*.tif\"))\n",
    "yield_monthly = os.path.join(monthly_dr,\"yield\")\n",
    "os.makedirs(yield_monthly, exist_ok= True)\n",
    "for biomass_month in biomass_monthly:\n",
    "  AGBM      = gis.OpenAsArray(biomass_month, nan_values=True)\n",
    "  CropYield = HI*AGBM\n",
    "  \n",
    "  # save into output folder\n",
    "  yield_month    = os.path.join(yield_monthly, os.path.basename(biomass_month).replace(\"biomass\", \"yield\"))\n",
    "  gis.CreateGeoTiff(yield_month, CropYield, driver, NDV, xsize, ysize, GeoT, Projection)"
   ]
  },
  {
   "cell_type": "markdown",
   "metadata": {},
   "source": [
    "## Step 4c - Calculate water productivity (WP)"
   ]
  },
  {
   "cell_type": "markdown",
   "metadata": {},
   "source": [
    "## i) Calculate biomass water productivity \n",
    "$Biomass WP= \\frac{Biomass}{ET_a}$"
   ]
  },
  {
   "cell_type": "markdown",
   "metadata": {},
   "source": [
    "## **** Calculate biomass water productivity (WPb)"
   ]
  },
  {
   "cell_type": "code",
   "execution_count": 7,
   "metadata": {
    "collapsed": true
   },
   "outputs": [],
   "source": [
    "# collecting Geoinfo such as projection, the x and y axis\n",
    "driver, NDV, xsize, ysize, GeoT, Projection = gis.GetGeoInfo(AETI_seasonal)\n",
    "spatial_extent = (GeoT[0], GeoT[0] + GeoT[1] * xsize, GeoT[3] + GeoT[5] * ysize, GeoT[3])  # get spatial extent of raster\n",
    "\n",
    "## Calculate the WP\n",
    "AETI = gis.OpenAsArray(AETI_seasonal, nan_values=True) \n",
    "AGBM = gis.OpenAsArray(biomass_seasonal, nan_values=True)\n",
    "WPb  = AGBM/AETI*100\n",
    "\n",
    "# save into output folder\n",
    "wpb_seasonal    = os.path.join(seasonal_dr, f\"seasonal_WPb.tif\")\n",
    "gis.CreateGeoTiff(wpb_seasonal, WPb, driver, NDV, xsize, ysize, GeoT, Projection)\n",
    "\n",
    "# monthly WPb\n",
    "biomass_monthly = sorted(glob.glob(f\"{monthly_dr}/biomass\"+\"/*.tif\"))\n",
    "AETI_monthly = sorted(glob.glob(f\"{monthly_dr}/AETI\"+\"/*.tif\"))\n",
    "WPb_monthly = os.path.join(monthly_dr,\"WPb\")\n",
    "os.makedirs(WPb_monthly, exist_ok= True)\n",
    "for AETI_month, biomass_month in zip(AETI_monthly, biomass_monthly):\n",
    "  AETI = gis.OpenAsArray(AETI_month, nan_values=True)\n",
    "  AGBM = gis.OpenAsArray(biomass_month, nan_values=True)\n",
    "  WPb  = AGBM/AETI*100\n",
    "  # save into output folder\n",
    "  WPb_month    = os.path.join(WPb_monthly, os.path.basename(biomass_month).replace(\"biomass\", \"WPb\"))\n",
    "  gis.CreateGeoTiff(WPb_month, WPb, driver, NDV, xsize, ysize, GeoT, Projection)"
   ]
  },
  {
   "cell_type": "markdown",
   "metadata": {},
   "source": [
    "## ii) Calculate crop water productivity \n",
    "$Crop WP = \\frac{CropYield}{ET_a}$"
   ]
  },
  {
   "cell_type": "markdown",
   "metadata": {},
   "source": [
    "## **** Calculate crop water productivity (WPy)"
   ]
  },
  {
   "cell_type": "code",
   "execution_count": 8,
   "metadata": {
    "collapsed": true
   },
   "outputs": [],
   "source": [
    "# collecting Geoinfo such as projection, the x and y axis\n",
    "driver, NDV, xsize, ysize, GeoT, Projection = gis.GetGeoInfo(AETI_seasonal)\n",
    "spatial_extent = (GeoT[0], GeoT[0] + GeoT[1] * xsize, GeoT[3] + GeoT[5] * ysize, GeoT[3])  # get spatial extent of raster\n",
    "\n",
    "## Calculate the WP\n",
    "AETI  = gis.OpenAsArray(AETI_seasonal, nan_values=True) \n",
    "Yield = gis.OpenAsArray(yield_seasonal, nan_values=True)\n",
    "WPy   = Yield/AETI*100\n",
    "\n",
    "wpy_seasonal    = os.path.join(seasonal_dr, \"seasonal_WPy.tif\")\n",
    "gis.CreateGeoTiff(wpy_seasonal, WPy, driver, NDV, xsize, ysize, GeoT, Projection)\n",
    "\n",
    "# monthly WPy\n",
    "yield_monthly = sorted(glob.glob(f\"{monthly_dr}/yield\"+\"/*.tif\"))\n",
    "AETI_monthly = sorted(glob.glob(f\"{monthly_dr}/AETI\"+\"/*.tif\"))\n",
    "WPy_monthly = os.path.join(monthly_dr,\"WPy\")\n",
    "os.makedirs(WPy_monthly, exist_ok= True)\n",
    "for AETI_month, yield_month in zip(AETI_monthly, yield_monthly):\n",
    "  AETI = gis.OpenAsArray(AETI_month, nan_values=True)\n",
    "  Yield = gis.OpenAsArray(yield_month, nan_values=True)\n",
    "  WPy  = Yield/AETI*100\n",
    "  # save into output folder\n",
    "  WPy_month    = os.path.join(WPy_monthly, os.path.basename(yield_month).replace(\"yield\", \"WPy\"))\n",
    "  gis.CreateGeoTiff(WPy_month, WPy, driver, NDV, xsize, ysize, GeoT, Projection)"
   ]
  }
 ],
 "metadata": {
  "kernelspec": {
   "display_name": "Python 3",
   "language": "python",
   "name": "python3"
  },
  "language_info": {
   "codemirror_mode": {
    "name": "ipython",
    "version": 3
   },
   "file_extension": ".py",
   "mimetype": "text/x-python",
   "name": "python",
   "nbconvert_exporter": "python",
   "pygments_lexer": "ipython3",
   "version": "3.10.12"
  }
 },
 "nbformat": 4,
 "nbformat_minor": 2
}
