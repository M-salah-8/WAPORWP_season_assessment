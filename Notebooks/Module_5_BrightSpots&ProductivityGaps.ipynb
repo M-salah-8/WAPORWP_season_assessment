{
 "cells": [
  {
   "cell_type": "markdown",
   "metadata": {},
   "source": [
    "## Module 5 - In this jupyter notebook, target productivity and productivity gaps are calculated\n",
    "* Set up\n",
    "* Calculate the target productivity \n",
    "* Identify bright spots\n",
    "* calculate productivity gaps \n",
    "**===========================================================================================================**\n",
    "![title](img/Fig5.PNG)\n",
    "**===========================================================================================================**"
   ]
  },
  {
   "cell_type": "markdown",
   "metadata": {},
   "source": [
    "# Set up"
   ]
  },
  {
   "cell_type": "code",
   "execution_count": null,
   "metadata": {},
   "outputs": [],
   "source": [
    "import os\n",
    "import numpy as np\n",
    "import pandas as pd\n",
    "from matplotlib import colors\n",
    "from mpl_toolkits.axes_grid1 import make_axes_locatable  # helps to sync colorbar height with the plot\n",
    "from matplotlib import pyplot as plt\n",
    "master_dr = os.path.split(os.getcwd())[0]\n",
    "\n",
    "# change the directory to where the modules are saved\n",
    "os.chdir(os.path.join(os.path.split(os.getcwd())[0], \"Modules\"))\n",
    "from GIS_functions import GIS_function as gis\n",
    "from maps import Maps\n",
    "maps = Maps()"
   ]
  },
  {
   "cell_type": "markdown",
   "metadata": {},
   "source": [
    "# Calculate the target productivity "
   ]
  },
  {
   "cell_type": "markdown",
   "metadata": {},
   "source": [
    "## i) Import the input data"
   ]
  },
  {
   "cell_type": "code",
   "execution_count": null,
   "metadata": {},
   "outputs": [],
   "source": [
    "# get seasonal data\n",
    "seasonal_dr = os.path.join(master_dr, r\"Data/tif/seasonal\")\n",
    "AETI_seasonal    = os.path.join(seasonal_dr, f\"seasonal_AETI.tif\")\n",
    "biomass_seasonal    = os.path.join(seasonal_dr, f\"seasonal_biomass.tif\")\n",
    "WPb_seasonal    = os.path.join(seasonal_dr, f\"seasonal_WPb.tif\")\n",
    "yield_seasonal    = os.path.join(seasonal_dr, f\"seasonal_yield.tif\")\n",
    "WPy_seasonal    = os.path.join(seasonal_dr, f\"seasonal_WPy.tif\")"
   ]
  },
  {
   "cell_type": "markdown",
   "metadata": {},
   "source": [
    "## ii) Calculate the target biomass and target biomass water productivity"
   ]
  },
  {
   "cell_type": "code",
   "execution_count": null,
   "metadata": {},
   "outputs": [],
   "source": [
    "Season        = []\n",
    "BiomassTarget = []\n",
    "WPbTarget     = []\n",
    "\n",
    "AETI   = gis.OpenAsArray(AETI_seasonal, nan_values=True) \n",
    "AGBM   = gis.OpenAsArray(biomass_seasonal,  nan_values=True) \n",
    "WPb    = gis.OpenAsArray(WPb_seasonal, nan_values=True)\n",
    "\n",
    "# reshape the arrays\n",
    "AETI_1D    = np.reshape(AETI, AETI.shape[0]*AETI.shape[1])\n",
    "Biomass_1D = np.reshape(AGBM, AGBM.shape[0] * AGBM.shape[1])\n",
    "WPb_1D     = np.reshape(WPb, WPb.shape[0] * WPb.shape[1])\n",
    "\n",
    "# targets productivity\n",
    "Target_biomass = round(np.nanpercentile(Biomass_1D, 95), 0)  # Yield at 95 percentile\n",
    "TargetWP       = round(np.nanpercentile(WPb_1D, 95), 1)         # WP at 95 percentile\n",
    "\n",
    "BiomassTarget.append(Target_biomass)\n",
    "WPbTarget.append(TargetWP)\n",
    "\n",
    "# scatter plot of Yield vs WP and histogram of WP for 2017\n",
    "title1  = 'Biomass vs WPb'\n",
    "xlable1 = 'Biomass [ton/ha]'\n",
    "ylable1 = 'WPb [kg/m3]'\n",
    "\n",
    "title2  = 'WPb'\n",
    "xlable2 = 'WPb [ton/ha]'\n",
    "ylable2 = 'Number of pixels'\n",
    "\n",
    "title1,xlable1,ylable1\n",
    "maps.plotProductivityTargets(AETI_1D,  Biomass_1D, WPb_1D, title1,xlable1,ylable1, title2,xlable2,ylable2)\n",
    "\n",
    "# save the data into dataframe - tabular form\n",
    "data_tuples = list(zip(BiomassTarget, WPbTarget))\n",
    "df_targets = pd.DataFrame(data_tuples, columns=['Target_biomass', 'Target_WPb'])\n",
    "print(df_targets)"
   ]
  },
  {
   "cell_type": "markdown",
   "metadata": {},
   "source": [
    "## iii) Calculate the target crop yield and target crop water productivity"
   ]
  },
  {
   "cell_type": "code",
   "execution_count": null,
   "metadata": {},
   "outputs": [],
   "source": [
    "YieldTarget   = []\n",
    "WPyTarget     = []\n",
    "\n",
    "AETI   = gis.OpenAsArray(AETI_seasonal, nan_values=True) \n",
    "Yield  = gis.OpenAsArray(yield_seasonal,  nan_values=True) \n",
    "WPy    = gis.OpenAsArray(WPy_seasonal, nan_values=True)\n",
    "\n",
    "# reshape the arrays\n",
    "AETI_1D    = np.reshape(AETI, AETI.shape[0]*AETI.shape[1])\n",
    "Yield_1D   = np.reshape(Yield, Yield.shape[0] * Yield.shape[1])\n",
    "WPy_1D     = np.reshape(WPy, WPy.shape[0] * WPy.shape[1])\n",
    "\n",
    "# targets productivity\n",
    "Target_yield   = round(np.nanpercentile(Yield_1D, 95), 0)  # Yield at 95 percentile\n",
    "TargetWP       = round(np.nanpercentile(WPy_1D, 95), 1)         # WP at 95 percentile\n",
    "\n",
    "YieldTarget.append(Target_yield)\n",
    "WPyTarget.append(TargetWP )\n",
    "    \n",
    "# plot\n",
    "title1  = 'Crop yield vs WPy'\n",
    "xlable1 = 'Crop yield[ton/ha]'\n",
    "ylable1 = 'WPy [kg/m3]'\n",
    "\n",
    "title2  = 'WPy'\n",
    "xlable2 = 'WPy [ton/ha]'\n",
    "ylable2 = 'Number of pixels'\n",
    "\n",
    "title1,xlable1,ylable1\n",
    "maps.plotProductivityTargets(AETI_1D,  Yield_1D, WPy_1D, title1,xlable1,ylable1, title2,xlable2,ylable2)\n",
    "        \n",
    "\n",
    "# save the data into dataframe - tabular form\n",
    "data_tuples = list(zip(YieldTarget, WPyTarget))\n",
    "df_targets = pd.DataFrame(data_tuples, columns=['Target_yield', 'Target_WPy'])\n",
    "print(df_targets)"
   ]
  },
  {
   "cell_type": "markdown",
   "metadata": {},
   "source": [
    "# Identify bright spots \n",
    "* The bright spots are idetified based on the target biomass and target biomass water productivity (WPb)"
   ]
  },
  {
   "cell_type": "markdown",
   "metadata": {},
   "source": [
    "## i) Map the bright spots in the study area"
   ]
  },
  {
   "cell_type": "code",
   "execution_count": null,
   "metadata": {
    "scrolled": false
   },
   "outputs": [],
   "source": [
    "driver, NDV, xsize, ysize, GeoT, Projection = gis.GetGeoInfo(AETI_seasonal)\n",
    "spatial_extent = (GeoT[0], GeoT[0] + GeoT[1] * xsize, GeoT[3] + GeoT[5] * ysize, GeoT[3])  # get spatial extent of raster\n",
    "\n",
    "AETI   = gis.OpenAsArray(AETI_seasonal, nan_values=True) \n",
    "AGBM   = gis.OpenAsArray(biomass_seasonal,  nan_values=True) \n",
    "WPb    = gis.OpenAsArray(WPb_seasonal, nan_values=True)\n",
    "\n",
    "# reshape the arrays\n",
    "AETI_1D    = np.reshape(AETI, AETI.shape[0]*AETI.shape[1])\n",
    "Biomass_1D = np.reshape(AGBM, AGBM.shape[0] * AGBM.shape[1])\n",
    "WPb_1D     = np.reshape(WPb, WPb.shape[0] * WPb.shape[1])\n",
    "\n",
    "# save the data into dataframe - tabular form\n",
    "data_tuples = list(zip(AETI_1D,Biomass_1D,WPb_1D))\n",
    "df          = pd.DataFrame(data_tuples, columns=['AETI','Biomass','WP'])\n",
    "\n",
    "# thresholds for the targets\n",
    "TargetBiomass = round(np.nanpercentile(Biomass_1D, 95), 0)\n",
    "TargetWP      = round(np.nanpercentile(WPb_1D , 95), 1)\n",
    "maxBiomass    = round(df[\"Biomass\"].max(),1)\n",
    "maxWPb        = round(df[\"WP\"].max(),1)\n",
    "\n",
    "## Plot\n",
    "fig, (ax1, ax2, ax3) = plt.subplots(nrows=1, ncols=3, figsize=(16, 8))\n",
    "\n",
    "# ax1, plot raster map, highlight Yield greater than or equal to the target\n",
    "cmap1   = colors.ListedColormap(['lightgrey', 'green'])\n",
    "bounds1 = [0, TargetBiomass, maxBiomass]\n",
    "norm1   = colors.BoundaryNorm(bounds1, cmap1.N)\n",
    "\n",
    "img1     = ax1.imshow(AGBM, cmap=cmap1, norm=norm1, extent=spatial_extent)\n",
    "divider1 = make_axes_locatable(ax1)\n",
    "cax1     = divider1.append_axes(\"right\", size=\"5%\", pad=0.05)\n",
    "fig.colorbar(img1, spacing='proportional', ax=ax1, cax=cax1)\n",
    "ax1.set_title ('Biomass(B) >= 95 percentile ', fontsize=10)\n",
    "\n",
    "### add axes label\n",
    "ax1.set_xlabel(r'Longitude ($^{\\circ}$ East)', fontsize=12)  # add axes label\n",
    "ax1.set_ylabel(r'Latitude ($^{\\circ}$ North)', fontsize=12)\n",
    "\n",
    "# ax2, plot raster map, highlight Yield greater than or equal to the target \n",
    "cmap2   = colors.ListedColormap(['lightgrey', 'red'])\n",
    "bounds2 = [0, TargetWP, maxWPb]\n",
    "norm2   = colors.BoundaryNorm(bounds2, cmap2.N)\n",
    "\n",
    "img2     = ax2.imshow(WPb, cmap=cmap2, norm=norm2, extent=spatial_extent)\n",
    "divider2 = make_axes_locatable(ax2)\n",
    "cax2     = divider2.append_axes(\"right\", size=\"5%\", pad=0.05)\n",
    "fig.colorbar(img2, spacing='proportional', ax=ax2, cax=cax2)\n",
    "ax2.set_title ('B WP >= 95 percentile ', fontsize=10)  \n",
    "\n",
    "# ax3, plot raster map, highlight when both Yield and WP greater than or equal to the targets\n",
    "Biomass_targeSpots      = np.where(((AGBM >= TargetBiomass ) & (WPb >= TargetWP)), AGBM, np.nan)\n",
    "Biomass_WPb_targetSpots = np.where((AGBM  < TargetBiomass), 1, Biomass_targeSpots)\n",
    "\n",
    "cmap3   = colors.ListedColormap(['lightgrey', 'blue'])\n",
    "bounds3 = [0, TargetWP, maxWPb]\n",
    "norm3   = colors.BoundaryNorm(bounds3, cmap3.N)\n",
    "\n",
    "img3 = ax3.imshow(Biomass_WPb_targetSpots, cmap=cmap3, norm=norm3, extent=spatial_extent)\n",
    "# fig.colorbar(img3, spacing='proportional', ax=ax3)\n",
    "ax3.set_title ('Biomass and WPb >= 95 percentile ', fontsize=10)  \n",
    "\n",
    "plt.subplots_adjust(wspace=0.4)\n",
    "\n",
    "plt.show()"
   ]
  },
  {
   "cell_type": "markdown",
   "metadata": {},
   "source": [
    "## ii) save maps as rasters"
   ]
  },
  {
   "cell_type": "code",
   "execution_count": null,
   "metadata": {},
   "outputs": [],
   "source": [
    "driver, NDV, xsize, ysize, GeoT, Projection = gis.GetGeoInfo(AETI_seasonal)\n",
    "spatial_extent = (GeoT[0], GeoT[0] + GeoT[1] * xsize, GeoT[3] + GeoT[5] * ysize, GeoT[3])  # get spatial extent of raster\n",
    "\n",
    "AETI   = gis.OpenAsArray(AETI_seasonal, nan_values=True)\n",
    "AGBM   = gis.OpenAsArray(biomass_seasonal,  nan_values=True)\n",
    "WPb    = gis.OpenAsArray(WPb_seasonal, nan_values=True)\n",
    "\n",
    "# reshape the arrays\n",
    "AETI_1D    = np.reshape(AETI, AETI.shape[0]*AETI.shape[1])\n",
    "Biomass_1D = np.reshape(AGBM, AGBM.shape[0] * AGBM.shape[1])\n",
    "WPb_1D     = np.reshape(WPb, WPb.shape[0] * WPb.shape[1])\n",
    "\n",
    "# save the data into dataframe - tabular form\n",
    "data_tuples = list(zip(AETI_1D,Biomass_1D,WPb_1D))\n",
    "df          = pd.DataFrame(data_tuples, columns=['AETI','Biomass','WP'])\n",
    "\n",
    "# thresholds for the targets\n",
    "TargetBiomass = round(np.nanpercentile(Biomass_1D, 95), 0)\n",
    "low_Biomass = round(np.nanpercentile(Biomass_1D, 5), 0)\n",
    "TargetWP      = round(np.nanpercentile(WPb_1D , 95), 1)\n",
    "low_WP = round(np.nanpercentile(WPb_1D, 5), 1)\n",
    "\n",
    "agbm_mask = np.ma.array(AGBM, mask=np.isnan(AGBM))\n",
    "Biomass_targeSpots      = np.where((AGBM >= TargetBiomass), 1, 0)\n",
    "Biomass_targeSpots      = np.where(agbm_mask.mask, np.nan, Biomass_targeSpots)\n",
    "BiomassTargetspots_seasonal = os.path.join(seasonal_dr, 'seasonal_BiomassTargetspots.tif')\n",
    "gis.CreateGeoTiff(BiomassTargetspots_seasonal, Biomass_targeSpots, driver, NDV, xsize, ysize, GeoT, Projection)\n",
    "Biomass_lowspots      = np.where((AGBM <= low_Biomass), 1, 0)\n",
    "Biomass_lowspots      = np.where(agbm_mask.mask, np.nan, Biomass_lowspots)\n",
    "BiomassLowspots_seasonal = os.path.join(seasonal_dr, 'seasonal_BiomassLowspots.tif')\n",
    "gis.CreateGeoTiff(BiomassLowspots_seasonal, Biomass_lowspots, driver, NDV, xsize, ysize, GeoT, Projection)\n",
    "\n",
    "WPb_mask = np.ma.array(WPb, mask=np.isnan(WPb))\n",
    "WPb_targeSpots      = np.where((WPb >= TargetWP), 1, 0)\n",
    "WPb_targeSpots      = np.where(WPb_mask.mask, np.nan, WPb_targeSpots)\n",
    "WPbTargetspots_seasonal = os.path.join(seasonal_dr, 'seasonal_WPbTargetspots.tif')\n",
    "gis.CreateGeoTiff(WPbTargetspots_seasonal, WPb_targeSpots, driver, NDV, xsize, ysize, GeoT, Projection)\n",
    "WPb_lowspots      = np.where((WPb <= low_WP), 1, 0)\n",
    "WPb_lowspots      = np.where(WPb_mask.mask, np.nan, WPb_lowspots)\n",
    "WPbLowspots_seasonal = os.path.join(seasonal_dr, 'seasonal_WPbLowspots.tif')\n",
    "gis.CreateGeoTiff(WPbLowspots_seasonal, WPb_lowspots, driver, NDV, xsize, ysize, GeoT, Projection)"
   ]
  },
  {
   "cell_type": "markdown",
   "metadata": {},
   "source": [
    "# Calculate productivity gaps\n",
    "* i) Biomass gaps and biomass WP gaps\n",
    "* ii)Crop yield gaps and crop WP gaps"
   ]
  },
  {
   "cell_type": "markdown",
   "metadata": {},
   "source": [
    "## i) Biomass gaps and biomass water productivity gaps"
   ]
  },
  {
   "cell_type": "markdown",
   "metadata": {},
   "source": [
    "### ** Biomass gaps"
   ]
  },
  {
   "cell_type": "code",
   "execution_count": null,
   "metadata": {
    "scrolled": false
   },
   "outputs": [],
   "source": [
    "driver, NDV, xsize, ysize, GeoT, Projection = gis.GetGeoInfo(AETI_seasonal)\n",
    "spatial_extent = (GeoT[0], GeoT[0] + GeoT[1] * xsize, GeoT[3] + GeoT[5] * ysize, GeoT[3])  # get spatial extent of raster\n",
    "\n",
    "\n",
    "AGBM = gis.OpenAsArray(biomass_seasonal, nan_values=True) \n",
    "\n",
    "# productivity targets and produtivity gaps\n",
    "Biomass_1D = np.reshape(AGBM, AGBM.shape[0] * AGBM.shape[1])  # reshape the arrays\n",
    "TargetBiomass = round(np.nanpercentile(Biomass_1D, 95), 1)\n",
    "Biomassgap = np.where( AGBM < TargetBiomass, TargetBiomass - AGBM, np.nan)\n",
    "        \n",
    "# save yield gap\n",
    "Biomassgap_seasonal = os.path.join(seasonal_dr, 'seasonal_biomassgap.tif')\n",
    "gis.CreateGeoTiff(Biomassgap_seasonal, Biomassgap, driver, NDV, xsize, ysize, GeoT, Projection)"
   ]
  },
  {
   "cell_type": "markdown",
   "metadata": {},
   "source": [
    "### ** Biomass WP gaps (WPb gaps)"
   ]
  },
  {
   "cell_type": "code",
   "execution_count": null,
   "metadata": {
    "scrolled": false
   },
   "outputs": [],
   "source": [
    "driver, NDV, xsize, ysize, GeoT, Projection = gis.GetGeoInfo(AETI_seasonal)\n",
    "spatial_extent = (GeoT[0], GeoT[0] + GeoT[1] * xsize, GeoT[3] + GeoT[5] * ysize, GeoT[3])  # get spatial extent of raster\n",
    "\n",
    "WPb = gis.OpenAsArray(WPy_seasonal, nan_values=True) \n",
    "\n",
    "# productivity targets and produtivity gaps\n",
    "WPb_1D     = np.reshape(WPb, WPb.shape[0] * WPb.shape[1])  # reshape the arrays\n",
    "TargetWPb  = round(np.nanpercentile(WPb_1D, 95), 2)\n",
    "WPbgap     = np.where( WPb < TargetWPb, TargetWPb - WPb, np.nan)\n",
    "\n",
    "# save yield gap\n",
    "WPbgap_seasonal = os.path.join(seasonal_dr, 'seasonal_WPbgap.tif')\n",
    "gis.CreateGeoTiff(WPbgap_seasonal,  WPbgap, driver, NDV, xsize, ysize, GeoT, Projection) "
   ]
  },
  {
   "cell_type": "markdown",
   "metadata": {},
   "source": [
    "## ii) Crop yield gaps and crop water productivity gaps"
   ]
  },
  {
   "cell_type": "markdown",
   "metadata": {},
   "source": [
    "### ** Crop yield gaps"
   ]
  },
  {
   "cell_type": "code",
   "execution_count": null,
   "metadata": {},
   "outputs": [],
   "source": [
    "driver, NDV, xsize, ysize, GeoT, Projection = gis.GetGeoInfo(AETI_seasonal)\n",
    "spatial_extent = (GeoT[0], GeoT[0] + GeoT[1] * xsize, GeoT[3] + GeoT[5] * ysize, GeoT[3])  # get spatial extent of raster\n",
    "\n",
    "Yield = gis.OpenAsArray(yield_seasonal, nan_values=True) \n",
    "\n",
    "# productivity targets and produtivity gaps\n",
    "Yield_1D    = np.reshape(Yield, Yield.shape[0] * Yield.shape[1])  # reshape the arrays\n",
    "TargetYield = round(np.nanpercentile(Yield_1D, 95), 1)\n",
    "Yieldgap    = np.where( Yield < TargetYield, TargetYield - Yield, np.nan)\n",
    "\n",
    "# save yield gap\n",
    "yieldgap_seasonal = os.path.join(seasonal_dr, 'seasonal_yieldgap.tif')\n",
    "gis.CreateGeoTiff(yieldgap_seasonal, Yieldgap, driver, NDV, xsize, ysize, GeoT, Projection)"
   ]
  },
  {
   "cell_type": "markdown",
   "metadata": {},
   "source": [
    "### ** Crop WP gaps"
   ]
  },
  {
   "cell_type": "code",
   "execution_count": null,
   "metadata": {},
   "outputs": [],
   "source": [
    "driver, NDV, xsize, ysize, GeoT, Projection = gis.GetGeoInfo(AETI_seasonal)\n",
    "spatial_extent = (GeoT[0], GeoT[0] + GeoT[1] * xsize, GeoT[3] + GeoT[5] * ysize, GeoT[3])  # get spatial extent of raster\n",
    "\n",
    "WPy = gis.OpenAsArray(WPy_seasonal, nan_values=True) \n",
    "# productivity targets and produtivity gaps\n",
    "WPy_1D     = np.reshape(WPy, WPy.shape[0] * WPy.shape[1])  # reshape the arrays\n",
    "TargetWPy  = round(np.nanpercentile(WPy_1D, 95), 2)\n",
    "WPygap     = np.where( WPy < TargetWPy, TargetWPy - WPy, np.nan)\n",
    "\n",
    "# save yield gap\n",
    "WPygap_seasonal = os.path.join(seasonal_dr, 'seasonal_WPygap.tif')\n",
    "gis.CreateGeoTiff(WPygap_seasonal,  WPbgap, driver, NDV, xsize, ysize, GeoT, Projection) "
   ]
  }
 ],
 "metadata": {
  "kernelspec": {
   "display_name": "Python 3",
   "language": "python",
   "name": "python3"
  },
  "language_info": {
   "codemirror_mode": {
    "name": "ipython",
    "version": 3
   },
   "file_extension": ".py",
   "mimetype": "text/x-python",
   "name": "python",
   "nbconvert_exporter": "python",
   "pygments_lexer": "ipython3",
   "version": "3.12.5"
  }
 },
 "nbformat": 4,
 "nbformat_minor": 2
}
