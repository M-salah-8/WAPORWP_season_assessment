{
 "cells": [
  {
   "cell_type": "markdown",
   "metadata": {},
   "source": [
    "## i) Import packages/libraries"
   ]
  },
  {
   "cell_type": "code",
   "execution_count": 2,
   "metadata": {},
   "outputs": [],
   "source": [
    "import os\n",
    "import glob\n",
    "import geopandas as gpd\n",
    "import rasterio\n",
    "import rasterio.mask\n",
    "import numpy as np\n",
    "master_dr = os.path.split(os.getcwd())[0]\n",
    "# change the directory to where the modules are saved\n",
    "os.chdir(os.path.join(os.path.split(os.getcwd())[0], \"Modules\"))\n",
    "from GIS_functions import GIS_function as gis"
   ]
  },
  {
   "cell_type": "code",
   "execution_count": 3,
   "metadata": {},
   "outputs": [],
   "source": [
    "roi_shapefile= os.path.join(master_dr, r\"Data/1Boundary/Shapefile/wheat.shp\")\n",
    "gdf= gpd.read_file(roi_shapefile)\n",
    "name_column = 'FID'"
   ]
  },
  {
   "cell_type": "code",
   "execution_count": 4,
   "metadata": {},
   "outputs": [],
   "source": [
    "data_df = gdf[[name_column, 'geometry']]\n",
    "data_df[name_column] = data_df[name_column].astype(str)\n",
    "data_df.loc[len(data_df), name_column] = 'all_area'\n",
    "seasonal_df = data_df.copy()"
   ]
  },
  {
   "cell_type": "code",
   "execution_count": 5,
   "metadata": {},
   "outputs": [],
   "source": [
    "seasonal_dr = os.path.join(master_dr, r\"Data/tif/seasonal\")\n",
    "seasonal_tifs = glob.glob(seasonal_dr+'/*.tif')\n",
    "monthly_dr = os.path.join(master_dr, r\"Data/tif/monthly\")\n",
    "# data_names = [os.path.basename(path).split('.')[0].split('_')[1].upper() for path in seasonal_tifs]"
   ]
  },
  {
   "cell_type": "markdown",
   "metadata": {},
   "source": [
    "## ii) Import the input data"
   ]
  },
  {
   "cell_type": "code",
   "execution_count": 6,
   "metadata": {},
   "outputs": [],
   "source": [
    "# get seasonal data\n",
    "AETI_seasonal    = os.path.join(seasonal_dr, f\"seasonal_AETI.tif\")"
   ]
  },
  {
   "cell_type": "markdown",
   "metadata": {},
   "source": [
    "## Calculate uniformity of water consumption\n",
    "* Equity is defined as the coefficients of variation (CV) of seasonal ETa in the area of interest.\n",
    "* It measures the evenness of the water supply in an irrigation scheme. \n",
    "* Note: CV of 0 to 10% is good, 10 to 25% is fair and CV > 25% is poor uniformity (Bastiaanssen et al., 1996) \n",
    "<br/>"
   ]
  },
  {
   "cell_type": "code",
   "execution_count": 7,
   "metadata": {},
   "outputs": [],
   "source": [
    "#Uniformity of water Consumption \n",
    "\n",
    "# calculate for the whole area\n",
    "src = rasterio.open(AETI_seasonal)\n",
    "array = rasterio.mask.mask(src, gdf.geometry, crop=True, filled=True, nodata= np.nan)[0][0]\n",
    "AETIm   = np.nanmean(array)\n",
    "AETIsd  = np.nanstd(array)\n",
    "CV_AETI = (AETIsd / AETIm) * 100\n",
    "if CV_AETI < 10:\n",
    "    U = 'Good'\n",
    "if (CV_AETI >= 10) and (CV_AETI < 25):\n",
    "    U = 'Fair'\n",
    "else: \n",
    "    U = 'Poor'\n",
    "seasonal_df.loc[seasonal_df[name_column]=='all_area', 'UNIFORMITY'] = CV_AETI\n",
    "seasonal_df.loc[seasonal_df[name_column]=='all_area', 'UNIFORMITY CLASS'] = U\n",
    "\n",
    "# for every feature\n",
    "for i,row in gdf.iterrows():\n",
    "    geometry = [row['geometry']]\n",
    "    array = rasterio.mask.mask(src, geometry, crop=True, filled=True, nodata= np.nan)[0][0]\n",
    "    AETIm   = np.nanmean(array)\n",
    "    AETIsd  = np.nanstd(array)\n",
    "    CV_AETI = (AETIsd / AETIm) * 100\n",
    "    if CV_AETI < 10:\n",
    "        U = 'Good'\n",
    "    if (CV_AETI >= 10) and (CV_AETI < 25):\n",
    "        U = 'Fair'\n",
    "    else: \n",
    "        U = 'Poor'\n",
    "    seasonal_df.loc[seasonal_df[name_column]==str(row[name_column]), 'UNIFORMITY'] = CV_AETI\n",
    "    seasonal_df.loc[seasonal_df[name_column]==str(row[name_column]), 'UNIFORMITY CLASS'] = U\n"
   ]
  },
  {
   "cell_type": "markdown",
   "metadata": {},
   "source": [
    "## Step 3e - Calculate Relative water Deficit (RWD)\n",
    "$RWD= 1-\\frac{ET_a}{ET_x}$\n",
    "<br/>${ET_x} = $ Can be ETp or 99 percentile of the actual evapotranspiration"
   ]
  },
  {
   "cell_type": "code",
   "execution_count": 8,
   "metadata": {
    "scrolled": false
   },
   "outputs": [],
   "source": [
    "# collecting Geoinfo such as projection, the x and y axis\n",
    "driver, NDV, xsize, ysize, GeoT, Projection = gis.GetGeoInfo(AETI_seasonal)\n",
    "spatial_extent = (GeoT[0], GeoT[0] + GeoT[1] * xsize, GeoT[3] + GeoT[5] * ysize, GeoT[3])  # get spatial extent of raster\n",
    "\n",
    "\n",
    "\n",
    "# calculate for the whole area\n",
    "src = rasterio.open(AETI_seasonal)\n",
    "AETI = rasterio.mask.mask(src, gdf.geometry, crop=True, filled=True, nodata= np.nan)[0][0]\n",
    "AETI1_1D  = np.reshape(AETI,  AETI.shape[0]*AETI.shape[1])\n",
    "ETx       = np.nanpercentile(AETI1_1D, 99)\n",
    "AETI_mean = np.nanmean(AETI)\n",
    "RWD = 1-(AETI_mean/ETx)\n",
    "seasonal_df.loc[seasonal_df[name_column]=='all_area', 'RWD'] = round(RWD, 2)\n",
    "\n",
    "# for every feature\n",
    "for i,row in gdf.iterrows():\n",
    "    geometry = [row['geometry']]\n",
    "    AETI = rasterio.mask.mask(src, geometry, crop=True, filled=True, nodata= np.nan)[0][0]\n",
    "    AETI1_1D  = np.reshape(AETI,  AETI.shape[0]*AETI.shape[1])\n",
    "    ETx       = np.nanpercentile(AETI1_1D, 99)\n",
    "    AETI_mean = np.nanmean(AETI)\n",
    "    RWD = 1-(AETI_mean/ETx)\n",
    "    seasonal_df.loc[seasonal_df[name_column]==str(row[name_column]), 'RWD'] = round(RWD, 2)"
   ]
  },
  {
   "cell_type": "markdown",
   "metadata": {},
   "source": [
    "## Calculate tifs for every feature (area)"
   ]
  },
  {
   "cell_type": "code",
   "execution_count": 9,
   "metadata": {},
   "outputs": [],
   "source": [
    "# seasonal\n",
    "for tif in seasonal_tifs:\n",
    "  data_name = os.path.basename(tif).split('.')[0].split('_')[1].upper()\n",
    "  # calculate for the whole area\n",
    "  src = rasterio.open(tif)\n",
    "  array = rasterio.mask.mask(src, gdf.geometry, crop=True, filled=True, nodata= np.nan)[0][0]\n",
    "  mean = np.nanmedian(array)\n",
    "  seasonal_df.loc[seasonal_df[name_column]=='all_area', data_name] = mean\n",
    "  # for every feature\n",
    "  for i,row in gdf.iterrows():\n",
    "    geometry = [row['geometry']]\n",
    "    array = rasterio.mask.mask(src, geometry, crop=True, filled=True, nodata= np.nan)[0][0]\n",
    "    mean = np.nanmedian(array)\n",
    "    seasonal_df.loc[seasonal_df[name_column]==str(row[name_column]), data_name] = mean"
   ]
  },
  {
   "cell_type": "code",
   "execution_count": 10,
   "metadata": {},
   "outputs": [],
   "source": [
    "# monthly\n",
    "data_names = sorted(os.listdir(monthly_dr))\n",
    "months = [\"_\".join(i.split(\".\")[0].split(\"_\")[-2:]) for i in sorted(os.listdir(f\"{monthly_dr}/AETI\"))]\n",
    "months_dfs = []\n",
    "for month in months:\n",
    "  month_tifs = [f\"{monthly_dr}/{n}/monthly_{n}_{month}.tif\" for n in data_names]\n",
    "  month_df = data_df.copy()\n",
    "  for tif in month_tifs:\n",
    "    data_name = os.path.basename(tif).split('.')[0].split('_')[1].upper()\n",
    "    # calculate for the whole area\n",
    "    src = rasterio.open(tif)\n",
    "    array = rasterio.mask.mask(src, gdf.geometry, crop=True, filled=True, nodata= np.nan)[0][0]\n",
    "    mean = np.nanmedian(array)\n",
    "    month_df.loc[month_df[name_column]=='all_area', data_name] = mean\n",
    "    # for every feature\n",
    "    for i,row in gdf.iterrows():\n",
    "      geometry = [row['geometry']]\n",
    "      array = rasterio.mask.mask(src, geometry, crop=True, filled=True, nodata= np.nan)[0][0]\n",
    "      mean = np.nanmedian(array)\n",
    "      month_df.loc[month_df[name_column]==str(row[name_column]), data_name] = mean\n",
    "  months_dfs.append(month_df)"
   ]
  },
  {
   "cell_type": "code",
   "execution_count": 11,
   "metadata": {},
   "outputs": [],
   "source": [
    "# save data as sheet\n",
    "data_sheets_dr = os.path.join(master_dr, r\"Data/datasheets\")\n",
    "os.makedirs(data_sheets_dr, exist_ok= True)\n",
    "\n",
    "# seasonal\n",
    "data_df_dr = os.path.join(data_sheets_dr, \"seasonal.csv\")\n",
    "df_to_save = seasonal_df.copy().drop('geometry',axis=1)\n",
    "df_to_save.to_csv(data_df_dr, index=False)\n",
    "# monthly\n",
    "for df, month in zip(months_dfs, months):\n",
    "  data_df_dr = os.path.join(data_sheets_dr, f\"monthly_{month}.csv\")\n",
    "  df_to_save = df.copy().drop('geometry',axis=1)\n",
    "  df_to_save.to_csv(data_df_dr, index=False)"
   ]
  },
  {
   "cell_type": "code",
   "execution_count": 12,
   "metadata": {},
   "outputs": [],
   "source": [
    "# save data as vectors\n",
    "vectors_dr = os.path.join(master_dr, r\"Data/vectors\")\n",
    "os.makedirs(vectors_dr, exist_ok= True)\n",
    "\n",
    "# seasonal\n",
    "df_to_save = seasonal_df.copy()\n",
    "df_to_save = df_to_save.drop(df_to_save[df_to_save[name_column] == 'all_area'].index, axis=0)\n",
    "df_to_save = gpd.GeoDataFrame(df_to_save, geometry=df_to_save[\"geometry\"])\n",
    "data_df_dr = os.path.join(vectors_dr, \"seasonal.geojson\")\n",
    "df_to_save.to_file(data_df_dr, driver=\"GeoJSON\")\n",
    "# monthly\n",
    "for df, month in zip(months_dfs, months):\n",
    "  df_to_save = df.copy()\n",
    "  df_to_save = df_to_save.drop(df_to_save[df_to_save[name_column] == 'all_area'].index, axis=0)\n",
    "  df_to_save = gpd.GeoDataFrame(df_to_save, geometry=df_to_save[\"geometry\"])\n",
    "  data_df_dr = os.path.join(vectors_dr, f\"monthly_{month}.geojson\")\n",
    "  df_to_save.to_file(data_df_dr, driver=\"GeoJSON\")"
   ]
  }
 ],
 "metadata": {
  "kernelspec": {
   "display_name": "Python 3",
   "language": "python",
   "name": "python3"
  },
  "language_info": {
   "codemirror_mode": {
    "name": "ipython",
    "version": 3
   },
   "file_extension": ".py",
   "mimetype": "text/x-python",
   "name": "python",
   "nbconvert_exporter": "python",
   "pygments_lexer": "ipython3",
   "version": "3.10.12"
  }
 },
 "nbformat": 4,
 "nbformat_minor": 2
}
