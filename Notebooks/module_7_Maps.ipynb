{
 "cells": [
  {
   "cell_type": "markdown",
   "metadata": {},
   "source": [
    "# Module 7 - In this jupyter notebook, draw and export maps for all the produced data\n",
    "* Import packages\n",
    "* Draw seasonal maps\n",
    "* Draw seasonal charts\n",
    "* Draw monthly maps\n",
    "* Draw monthly charts\n",
    "**=====================================================================================================================**"
   ]
  },
  {
   "cell_type": "markdown",
   "metadata": {},
   "source": [
    "# Import packages/libraries"
   ]
  },
  {
   "cell_type": "code",
   "execution_count": null,
   "metadata": {},
   "outputs": [],
   "source": [
    "import os\n",
    "import glob\n",
    "import geopandas as gpd\n",
    "import numpy as np\n",
    "master_dr = os.path.split(os.getcwd())[0]\n",
    "# change the directory to where the modules are saved\n",
    "os.chdir(os.path.join(os.path.split(os.getcwd())[0], \"Modules\"))\n",
    "from GIS_functions import GIS_function as gis\n",
    "from maps import Maps"
   ]
  },
  {
   "cell_type": "markdown",
   "metadata": {},
   "source": [
    "# Draw seasonal maps and charts"
   ]
  },
  {
   "cell_type": "code",
   "execution_count": null,
   "metadata": {},
   "outputs": [],
   "source": [
    "seasonal_maps = Maps(\"season\")\n",
    "roi_shapefile= os.path.join(master_dr, r\"Data/vectors/seasonal.geojson\")\n",
    "gdf= gpd.read_file(roi_shapefile)\n",
    "gdf.columns = gdf.columns.str.lower()\n",
    "id_column = 'FID'\t\t# change according to your shapefile\n",
    "id_column = id_column.strip().lower()\n",
    "seasonal_dr = os.path.join(master_dr, r\"Data/tif/seasonal\")"
   ]
  },
  {
   "cell_type": "markdown",
   "metadata": {},
   "source": [
    "## Seasonal maps"
   ]
  },
  {
   "cell_type": "code",
   "execution_count": null,
   "metadata": {},
   "outputs": [],
   "source": [
    "seasonal_tifs = glob.glob(seasonal_dr+'/*.tif')\n",
    "seasonal_maps.data_maps(seasonal_tifs, gdf, \"seasonal\")"
   ]
  },
  {
   "cell_type": "markdown",
   "metadata": {},
   "source": [
    "## Seasonal charts"
   ]
  },
  {
   "cell_type": "markdown",
   "metadata": {},
   "source": [
    "### Data charts"
   ]
  },
  {
   "cell_type": "code",
   "execution_count": null,
   "metadata": {},
   "outputs": [],
   "source": [
    "data_gdf = gdf.drop([id_column, 'geometry', 'uniformity class'],axis= 1)"
   ]
  },
  {
   "cell_type": "code",
   "execution_count": null,
   "metadata": {},
   "outputs": [],
   "source": [
    "columns = data_gdf.columns\n",
    "seasonal_maps.data_bar_charts(gdf, columns, id_column, \"seasonal\")"
   ]
  },
  {
   "cell_type": "markdown",
   "metadata": {},
   "source": [
    "### Area charts"
   ]
  },
  {
   "cell_type": "code",
   "execution_count": null,
   "metadata": {},
   "outputs": [],
   "source": [
    "max_data = data_gdf.max()\n",
    "max_data.replace(0, np.nan, inplace=True)\n",
    "seasonal_maps.area_bar_charts(gdf, max_data, \"seasonal\")"
   ]
  },
  {
   "cell_type": "markdown",
   "metadata": {},
   "source": [
    "# Draw monthly maps and charts"
   ]
  },
  {
   "cell_type": "code",
   "execution_count": null,
   "metadata": {},
   "outputs": [],
   "source": [
    "monthly_maps = Maps('month')\n",
    "monthly_dr = os.path.join(master_dr, r\"Data/tif/monthly\")\n",
    "months = [\"_\".join(i.split(\".\")[0].split(\"_\")[-2:]) for i in sorted(os.listdir(f\"{monthly_dr}/AETI\"))]\n",
    "data_names = sorted(os.listdir(monthly_dr))"
   ]
  },
  {
   "cell_type": "markdown",
   "metadata": {},
   "source": [
    "## Monthly maps"
   ]
  },
  {
   "cell_type": "code",
   "execution_count": null,
   "metadata": {},
   "outputs": [],
   "source": [
    "# monthly\n",
    "for month in months:\n",
    "  month_tifs = [f\"{monthly_dr}/{n}/monthly_{n}_{month}.tif\" for n in data_names]\n",
    "  roi_shapefile= os.path.join(master_dr, f\"Data/vectors/monthly_{month}.geojson\")\n",
    "  gdf= gpd.read_file(roi_shapefile)\n",
    "  gdf.columns = gdf.columns.str.lower()\n",
    "  id_column = 'FID'.strip().lower()\n",
    "  tifs_dr = f\"monthly/{month}\"\n",
    "  monthly_maps.data_maps(month_tifs, gdf, tifs_dr)"
   ]
  },
  {
   "cell_type": "markdown",
   "metadata": {},
   "source": [
    "### Data charts"
   ]
  },
  {
   "cell_type": "code",
   "execution_count": null,
   "metadata": {},
   "outputs": [],
   "source": [
    "for month in months:\n",
    "\troi_shapefile= os.path.join(master_dr, f\"Data/vectors/monthly_{month}.geojson\")\n",
    "\tgdf= gpd.read_file(roi_shapefile)\n",
    "\tgdf.columns = gdf.columns.str.lower()\n",
    "\tid_column = 'FID'\t\t# change according to your shapefile\n",
    "\tid_column = id_column.strip().lower()\n",
    "\tdata_gdf = gdf.drop([id_column, 'geometry'],axis= 1)\n",
    "\tcolumns = data_gdf.columns\n",
    "\tcharts_dr = f\"monthly/{month}\"\n",
    "\tmonthly_maps.data_bar_charts(gdf, columns, id_column, charts_dr)"
   ]
  },
  {
   "cell_type": "markdown",
   "metadata": {},
   "source": [
    "### Area charts"
   ]
  },
  {
   "cell_type": "code",
   "execution_count": null,
   "metadata": {},
   "outputs": [],
   "source": [
    "for month in months:\n",
    "\troi_shapefile= os.path.join(master_dr, f\"Data/vectors/monthly_{month}.geojson\")\n",
    "\tgdf= gpd.read_file(roi_shapefile)\n",
    "\tgdf.columns = gdf.columns.str.lower()\n",
    "\tid_column = 'FID'\t\t# change according to your shapefile\n",
    "\tid_column = id_column.strip().lower()\n",
    "\tdata_gdf = gdf.drop([id_column, 'geometry'],axis= 1)\n",
    "\tmax_data = data_gdf.max()\n",
    "\tmax_data.replace(0, np.nan, inplace=True)\n",
    "\tcharts_dr = f\"monthly/{month}\"\n",
    "\tmonthly_maps.area_bar_charts(gdf, max_data, charts_dr)"
   ]
  }
 ],
 "metadata": {
  "kernelspec": {
   "display_name": "Python 3",
   "language": "python",
   "name": "python3"
  },
  "language_info": {
   "codemirror_mode": {
    "name": "ipython",
    "version": 3
   },
   "file_extension": ".py",
   "mimetype": "text/x-python",
   "name": "python",
   "nbconvert_exporter": "python",
   "pygments_lexer": "ipython3",
   "version": "3.12.5"
  }
 },
 "nbformat": 4,
 "nbformat_minor": 2
}
